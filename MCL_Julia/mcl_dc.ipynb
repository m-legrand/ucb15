{
 "cells": [
  {
   "cell_type": "markdown",
   "metadata": {},
   "source": [
    "# MCL Doubt Coefficient"
   ]
  },
  {
   "cell_type": "code",
   "execution_count": 215,
   "metadata": {
    "collapsed": false
   },
   "outputs": [
    {
     "data": {
      "text/plain": [
       "mcl_prob_dumb (generic function with 1 method)"
      ]
     },
     "execution_count": 215,
     "metadata": {},
     "output_type": "execute_result"
    }
   ],
   "source": [
    "#Pkg.add(\"Gadfly\")\n",
    "using Gadfly\n",
    "include(\"../plot_tools.jl\")\n",
    "include(\"mcl.jl\")"
   ]
  },
  {
   "cell_type": "markdown",
   "metadata": {},
   "source": [
    "## Step by step (customed algorithm)"
   ]
  },
  {
   "cell_type": "code",
   "execution_count": 216,
   "metadata": {
    "collapsed": false
   },
   "outputs": [
    {
     "data": {
      "text/plain": [
       "mcl (generic function with 1 method)"
      ]
     },
     "execution_count": 216,
     "metadata": {},
     "output_type": "execute_result"
    }
   ],
   "source": [
    "\"\"\"Apply MCL algorithm with expansion parameter e, inflation parameter r and p iterations\n",
    "Customed version for doubt coefficient\"\"\"\n",
    "function mcl(A;e=2,r=3,p=20,dc=\"none\",de=(if e==2 0 else 1 end),dr=(r*0.2))\n",
    "    A = mcl_norm(A)\n",
    "    if dc==\"none\"\n",
    "        for i=1:p\n",
    "            A = mcl_norm(mcl_inflate(mcl_expand(A,e),r))\n",
    "        end\n",
    "        return A\n",
    "    elseif dc==\"parallel\"\n",
    "        B1,B2,B3,B4 = A,A,A,A\n",
    "        for i=1:p\n",
    "            A = mcl_norm(mcl_inflate(mcl_expand(A,e),r))\n",
    "            B1 = mcl_norm(mcl_inflate(mcl_expand(B1,e+de),r+dr))\n",
    "            B2 = mcl_norm(mcl_inflate(mcl_expand(B2,e-de),r+dr))\n",
    "            B3 = mcl_norm(mcl_inflate(mcl_expand(B3,e-de),r-dr))\n",
    "            B4 = mcl_norm(mcl_inflate(mcl_expand(B4,e+de),r-dr))\n",
    "        end\n",
    "        dc = maximum([norm(A-B1) norm(A-B1) norm(A-B1) norm(A-B1)])\n",
    "        return (A,dc)\n",
    "    elseif dc==\"forks\"\n",
    "        dc = zeros(p)\n",
    "        println(\"de=$de, dr=$dr\")\n",
    "        for i=1:p\n",
    "            A = mcl_norm(mcl_inflate(mcl_expand(A,e),r))\n",
    "            B1 = mcl_norm(mcl_inflate(mcl_expand(A,e+de),r+dr))\n",
    "            B2 = mcl_norm(mcl_inflate(mcl_expand(A,e-de),r+dr))\n",
    "            B3 = mcl_norm(mcl_inflate(mcl_expand(A,e-de),r-dr))\n",
    "            B4 = mcl_norm(mcl_inflate(mcl_expand(A,e+de),r-dr))\n",
    "            dc[i] = maximum([norm(A-B1) norm(A-B1) norm(A-B1) norm(A-B1)])\n",
    "        end\n",
    "        return (A,dc)\n",
    "    end\n",
    "end"
   ]
  },
  {
   "cell_type": "markdown",
   "metadata": {},
   "source": [
    "## Input-focused"
   ]
  },
  {
   "cell_type": "markdown",
   "metadata": {},
   "source": [
    "## Output-focused"
   ]
  },
  {
   "cell_type": "markdown",
   "metadata": {},
   "source": [
    "### Tools"
   ]
  },
  {
   "cell_type": "code",
   "execution_count": 217,
   "metadata": {
    "collapsed": false
   },
   "outputs": [
    {
     "data": {
      "text/plain": [
       "sbm_form (generic function with 1 method)"
      ]
     },
     "execution_count": 217,
     "metadata": {},
     "output_type": "execute_result"
    }
   ],
   "source": [
    "\"\"\"SBM form\n",
    "Input : A adjacency matrix, C vector of clusters (represented as vectors as well)\n",
    "Output : B reorganised adjacency matrix from A to fit SBM output common outfit\"\"\"\n",
    "function sbm_form(A,C)\n",
    "    # Vertices permutation\n",
    "    n = size(A,1)\n",
    "    K = size(C,1)\n",
    "    v = zeros(n)\n",
    "    s = 1\n",
    "    for k = 1:K\n",
    "        for i = 1:(size(C[k],1))\n",
    "            v[C[k][i]] = s\n",
    "            s += 1\n",
    "        end\n",
    "    end\n",
    "    # Output making\n",
    "    B = A\n",
    "    for i = 1:n\n",
    "        for j = 1:n\n",
    "            B[i,j] = A[v[i],v[j]]\n",
    "        end\n",
    "    end\n",
    "    return B\n",
    "end"
   ]
  },
  {
   "cell_type": "markdown",
   "metadata": {
    "collapsed": false
   },
   "source": [
    "### SBM Prototype"
   ]
  },
  {
   "cell_type": "markdown",
   "metadata": {},
   "source": [
    "### DC-SBM Prototype"
   ]
  },
  {
   "cell_type": "markdown",
   "metadata": {},
   "source": [
    "## Partition of the input space"
   ]
  },
  {
   "cell_type": "code",
   "execution_count": null,
   "metadata": {
    "collapsed": false
   },
   "outputs": [],
   "source": []
  }
 ],
 "metadata": {
  "kernelspec": {
   "display_name": "Julia 0.3.9",
   "language": "julia",
   "name": "julia-0.3"
  },
  "language_info": {
   "name": "julia",
   "version": "0.3.9"
  }
 },
 "nbformat": 4,
 "nbformat_minor": 0
}
